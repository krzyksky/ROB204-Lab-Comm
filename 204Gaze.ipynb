{
 "cells": [
  {
   "cell_type": "code",
   "execution_count": 1,
   "id": "36de7b58-7b7c-49df-8629-ecb91e2a431f",
   "metadata": {},
   "outputs": [],
   "source": [
    "!wget -q https://storage.googleapis.com/mediapipe-models/gesture_recognizer/gesture_recognizer/float16/1/gesture_recognizer.task\n",
    "!wget -O face_landmarker_v2_with_blendshapes.task -q https://storage.googleapis.com/mediapipe-models/face_landmarker/face_landmarker/float16/1/face_landmarker.task"
   ]
  },
  {
   "cell_type": "code",
   "execution_count": 16,
   "id": "8eccb59f-01b8-4276-9c50-3fdbb4d4049c",
   "metadata": {},
   "outputs": [],
   "source": [
    "import cv2\n",
    "from picamera2 import Picamera2\n",
    "import mediapipe as mp\n",
    "from mediapipe.tasks import python\n",
    "from mediapipe.tasks.python import vision\n",
    "\n",
    "import numpy as np\n",
    "import matplotlib.pyplot as plt\n",
    "from mpl_toolkits.mplot3d import Axes3D\n",
    "from IPython.display import clear_output\n",
    "import time\n",
    "import sys, math"
   ]
  },
  {
   "cell_type": "code",
   "execution_count": null,
   "id": "34172f06-04b4-49af-b8ec-43886636e19c",
   "metadata": {},
   "outputs": [],
   "source": [
    "def rotation_matrix_to_euler_angles(R):\n",
    "    sy = math.sqrt(R[0, 0] * R[0, 0] + R[1, 0] * R[1, 0])\n",
    "    singular = sy < 1e-6\n",
    "    if not singular:\n",
    "        x = math.atan2(R[2, 1], R[2, 2])\n",
    "        y = math.atan2(-R[2, 0], sy)\n",
    "        z = math.atan2(R[1, 0], R[0, 0])\n",
    "    else:\n",
    "        x = math.atan2(-R[1, 2], R[1, 1])\n",
    "        y = math.atan2(-R[2, 0], sy)\n",
    "        z = 0\n",
    "    return np.array([x, y, z])\n",
    "\n",
    "\n",
    "\n",
    "base_options = python.BaseOptions(model_asset_path='face_landmarker_v2_with_blendshapes.task')\n",
    "options = vision.FaceLandmarkerOptions(base_options=base_options,\n",
    "                                       output_face_blendshapes=False,\n",
    "                                       output_facial_transformation_matrixes=True,\n",
    "                                       num_faces=1)\n",
    "detector = vision.FaceLandmarker.create_from_options(options)\n",
    "\n",
    "\n",
    "with Picamera2() as picam:\n",
    "    picam.configure(picam.create_video_configuration(main={\"format\": 'RGB888', \"size\": (1280, 720)}))\n",
    "    picam.start()\n",
    "\n",
    "    while True:\n",
    "        start_time = time.time()\n",
    "        clear_output(wait=True)    \n",
    "        image = picam.capture_array(\"main\")\n",
    "        image = cv2.flip(image, 1)\n",
    "\n",
    "        mp_image = mp.Image(image_format=mp.ImageFormat.SRGB, data=image)\n",
    "        detection_result = detector.detect(mp_image)\n",
    "\n",
    "        try:\n",
    "            transformation_matrix = detection_result.facial_transformation_matrixes[0]\n",
    "            rotation_angles = rotation_matrix_to_euler_angles(transformation_matrix)\n",
    "            \n",
    "            yaw_angle = np.degrees(rotation_angles[1])\n",
    "            \n",
    "            if yaw_angle < -20:\n",
    "                print(\"👈\")\n",
    "            elif yaw_angle > 20:\n",
    "                print(\"👉\")\n",
    "            else:\n",
    "                print(\"🫵\")\n",
    "\n",
    "        except Exception as e:\n",
    "            display(\"Error: \", e)\n",
    "            continue\n",
    "        \n",
    "        display(\"FPS: \", 1.0 / (time.time() - start_time))"
   ]
  },
  {
   "cell_type": "code",
   "execution_count": null,
   "id": "9c30e173",
   "metadata": {},
   "outputs": [],
   "source": []
  }
 ],
 "metadata": {
  "kernelspec": {
   "display_name": "Python 3 (ipykernel)",
   "language": "python",
   "name": "python3"
  },
  "language_info": {
   "codemirror_mode": {
    "name": "ipython",
    "version": 3
   },
   "file_extension": ".py",
   "mimetype": "text/x-python",
   "name": "python",
   "nbconvert_exporter": "python",
   "pygments_lexer": "ipython3",
   "version": "3.11.2"
  }
 },
 "nbformat": 4,
 "nbformat_minor": 5
}
